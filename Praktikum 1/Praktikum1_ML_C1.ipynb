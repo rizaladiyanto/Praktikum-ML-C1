{
  "nbformat": 4,
  "nbformat_minor": 0,
  "metadata": {
    "colab": {
      "provenance": []
    },
    "kernelspec": {
      "name": "python3",
      "display_name": "Python 3"
    },
    "language_info": {
      "name": "python"
    }
  },
  "cells": [
    {
      "cell_type": "markdown",
      "source": [
        "**Rizal Adiyanto Nugroho** -\n",
        "**24060122140156** -\n",
        "**C1**"
      ],
      "metadata": {
        "id": "WoPk6mjOWhnf"
      }
    },
    {
      "cell_type": "code",
      "execution_count": null,
      "metadata": {
        "id": "zfur5_HOuJ20"
      },
      "outputs": [],
      "source": [
        "import pandas\n",
        "import numpy as np\n",
        "import matplotlib.pyplot as plt\n",
        "import seaborn as sns\n",
        "from pandas.plotting import scatter_matrix\n",
        "from sklearn import model_selection\n",
        "from sklearn.neighbors import KNeighborsClassifier\n",
        "from sklearn.tree import DecisionTreeClassifier\n",
        "from sklearn.svm import SVC\n",
        "from sklearn.naive_bayes import GaussianNB\n",
        "from sklearn.metrics import classification_report\n",
        "from sklearn.metrics import confusion_matrix\n",
        "from sklearn.metrics import accuracy_score\n",
        "from sklearn.model_selection import GridSearchCV\n",
        "from sklearn.model_selection import train_test_split"
      ]
    },
    {
      "cell_type": "code",
      "source": [
        "url = \"http://archive.ics.uci.edu/ml/machine-learning-databases/iris/iris.data\"\n",
        "names = ['sepal-length', 'sepal-width', 'petal-length', 'petal-width', 'class']\n",
        "dataset = pandas.read_csv(url, names=names)"
      ],
      "metadata": {
        "id": "8EJFzIxAuR_F"
      },
      "execution_count": null,
      "outputs": []
    },
    {
      "cell_type": "code",
      "source": [
        "array = dataset.values\n",
        "X = array[:,0:4]\n",
        "Y = array[:,4]\n",
        "\n",
        "validation_size = 0.20\n",
        "seed = 7\n",
        "\n",
        "X_train, X_validation, Y_train, Y_validation = model_selection.train_test_split(X, Y, test_size=validation_size, random_state=seed)"
      ],
      "metadata": {
        "id": "a-NDqMMIwTDu"
      },
      "execution_count": null,
      "outputs": []
    },
    {
      "cell_type": "code",
      "source": [
        "# Test options and evaluation metric\n",
        "seed = 7\n",
        "scoring = 'accuracy'"
      ],
      "metadata": {
        "id": "O2bP3GHGzXnt"
      },
      "execution_count": null,
      "outputs": []
    },
    {
      "cell_type": "code",
      "source": [
        "models = []\n",
        "models.append(('KNN', KNeighborsClassifier()))\n",
        "models.append(('NB', GaussianNB()))\n",
        "models.append(('SVM', SVC()))\n",
        "results = []\n",
        "names = []\n",
        "for name, model in models:\n",
        "    kfold = model_selection.KFold(n_splits=10, shuffle=True ,random_state=seed)\n",
        "    cv_results = model_selection.cross_val_score(model, X_train, Y_train, cv=kfold, scoring=scoring)\n",
        "\n",
        "    results.append(cv_results)\n",
        "    names.append(name)\n",
        "    msg = \"%s: %f (%f)\" % (name, cv_results.mean(), cv_results.std())\n",
        "    print(msg)"
      ],
      "metadata": {
        "colab": {
          "base_uri": "https://localhost:8080/"
        },
        "id": "msK0yjuMzcdX",
        "outputId": "73439c09-5c31-4448-e681-d431938b9034"
      },
      "execution_count": null,
      "outputs": [
        {
          "output_type": "stream",
          "name": "stdout",
          "text": [
            "KNN: 0.983333 (0.033333)\n",
            "NB: 0.966667 (0.040825)\n",
            "SVM: 0.983333 (0.033333)\n"
          ]
        }
      ]
    },
    {
      "cell_type": "markdown",
      "source": [
        "# **Model KNN**"
      ],
      "metadata": {
        "id": "yGA4YwCZvW1i"
      }
    },
    {
      "cell_type": "code",
      "source": [
        "# Pendefinisian parameter K yang ingin diuji\n",
        "param_grid = {'n_neighbors': range(1, 31)}\n",
        "\n",
        "# Inisialisasi KNN dan GridSearch\n",
        "knn = KNeighborsClassifier()\n",
        "grid_search = GridSearchCV(knn, param_grid, cv=5, scoring='accuracy')\n",
        "grid_search.fit(X, Y)\n",
        "\n",
        "# Hasil optimal\n",
        "print(\"Optimal K:\", grid_search.best_params_['n_neighbors'])\n",
        "print(\"Best Accuracy:\", grid_search.best_score_)"
      ],
      "metadata": {
        "colab": {
          "base_uri": "https://localhost:8080/"
        },
        "id": "HxAQwG0w2mlu",
        "outputId": "e1446c00-f133-4686-d64c-1c803ce205d0"
      },
      "execution_count": null,
      "outputs": [
        {
          "output_type": "stream",
          "name": "stdout",
          "text": [
            "Optimal K: 6\n",
            "Best Accuracy: 0.9800000000000001\n"
          ]
        }
      ]
    },
    {
      "cell_type": "markdown",
      "source": [
        "**PENCARIAN NILAI K TERBAIK**\n",
        "Dimulai dengan set parameter range pencarian K pada variabel param_grid, yaitu dari 1 hingga 30. Dengan menggunakan GridSearchCV, nilai K terbaik akan dicari berdasarkan akurasi dengan 5-folds cross-validation.\n",
        "Didapatkan nilai K terbaik adalah 6 dengan akurasi 98%"
      ],
      "metadata": {
        "id": "7WN7IQGv8OzE"
      }
    },
    {
      "cell_type": "code",
      "source": [
        "knn = KNeighborsClassifier(n_neighbors=6)\n",
        "knn.fit(X_train, Y_train)\n",
        "predictions = knn.predict(X_validation)\n",
        "print(accuracy_score(Y_validation, predictions))\n",
        "print(confusion_matrix(Y_validation, predictions))\n",
        "print(classification_report(Y_validation, predictions))"
      ],
      "metadata": {
        "colab": {
          "base_uri": "https://localhost:8080/"
        },
        "id": "7oI_FbmLzmfg",
        "outputId": "47df206c-544a-4019-d91b-13473d3c8bc8"
      },
      "execution_count": null,
      "outputs": [
        {
          "output_type": "stream",
          "name": "stdout",
          "text": [
            "0.8666666666666667\n",
            "[[ 7  0  0]\n",
            " [ 0 11  1]\n",
            " [ 0  3  8]]\n",
            "                 precision    recall  f1-score   support\n",
            "\n",
            "    Iris-setosa       1.00      1.00      1.00         7\n",
            "Iris-versicolor       0.79      0.92      0.85        12\n",
            " Iris-virginica       0.89      0.73      0.80        11\n",
            "\n",
            "       accuracy                           0.87        30\n",
            "      macro avg       0.89      0.88      0.88        30\n",
            "   weighted avg       0.87      0.87      0.87        30\n",
            "\n"
          ]
        }
      ]
    },
    {
      "cell_type": "markdown",
      "source": [
        "Hasil evaluasi menunjukkan bahwa akurasi pada data validasi adalah 0.866 atau 86.6%, yang artinya 86.6% dari prediksi model sesuai dengan aktualnya.\n",
        "Pada tabel confusion matrix ditunjukkan kelas Iris-setosa diprediksi sangat baik, yaitu 7 prediksi benar, dan 0 salah. Lalu Iris-versicolor dengan 11 prediksi benar, dan 1 salah ke Iris-virginica. Dan yang terakhir Iris-virginica dengan 8 prediksi benar, dan 3 salah ke Iris-versicolor.\n",
        "Pada Iris-setosa menunjukkan nilai sempurna pada ketiga nilai precision, recall, dan f1-score. sedangkan pada Iris-versicolor mendapat precision sebesar 0.79, recall 0.92, dan f1-score 0.85. serta pada Iris-virginica mendapat nilai precision sebesar 0.89, recall 0.73, dan f1-score 0.80.\n",
        "Rata-rata makro (macro average) dari precision, recall, dan F1-score adalah masing-masing sebesar 0.89, 0.88, dan 0.88, yang menunjukkan performa rata-rata model tanpa mempertimbangkan proporsi kelas. Sedangkan rata-rata berbobot (weighted average), yang memperhitungkan proporsi sampel dalam setiap kelas, adalah masing-masing sebesar 0.87 untuk precision, recall, dan F1-score."
      ],
      "metadata": {
        "id": "wwq5BaS4BuD9"
      }
    },
    {
      "cell_type": "markdown",
      "source": [
        "# **Model Naive Bayess**"
      ],
      "metadata": {
        "id": "-YuDz6NfMBuh"
      }
    },
    {
      "cell_type": "code",
      "source": [
        "nb = GaussianNB()\n",
        "nb.fit(X_train, Y_train)\n",
        "predictions = nb.predict(X_validation)\n",
        "print(accuracy_score(Y_validation, predictions))\n",
        "print(confusion_matrix(Y_validation, predictions))\n",
        "print(classification_report(Y_validation, predictions))"
      ],
      "metadata": {
        "colab": {
          "base_uri": "https://localhost:8080/"
        },
        "id": "eeMpejUJzsF-",
        "outputId": "dacf9f58-ee8b-4c00-ccb4-e8674365516e"
      },
      "execution_count": null,
      "outputs": [
        {
          "output_type": "stream",
          "name": "stdout",
          "text": [
            "0.8333333333333334\n",
            "[[7 0 0]\n",
            " [0 9 3]\n",
            " [0 2 9]]\n",
            "                 precision    recall  f1-score   support\n",
            "\n",
            "    Iris-setosa       1.00      1.00      1.00         7\n",
            "Iris-versicolor       0.82      0.75      0.78        12\n",
            " Iris-virginica       0.75      0.82      0.78        11\n",
            "\n",
            "       accuracy                           0.83        30\n",
            "      macro avg       0.86      0.86      0.86        30\n",
            "   weighted avg       0.84      0.83      0.83        30\n",
            "\n"
          ]
        }
      ]
    },
    {
      "cell_type": "markdown",
      "source": [
        "Hasil evaluasi menggunakan naive bayess menunjukkan nilai akurasi pada data adalah 0.833 atau 83.3% data terprediksi benar. Tabel confusion matrix menunjukkan prediksi pada Iris-setosa semuanya terprediksi benar, sama dengan hasil pada metode KNN. Namun pada Iris-versicolor hanya ada 9 prediksi yang benar dan 3 salah ke Iris-virginica. Serta ada 9 prediksi yang benar pada Iris-virginica dan 2 salah ke Iris-varsicolor.\n",
        "Pada Iris-setosa menunjukkan nilai sempurna pada ketiga nilai precision, recall, dan f1-score. sedangkan pada Iris-versicolor mendapat precision sebesar 0.82, recall 0.75, dan f1-score 0.78. serta pada Iris-virginica mendapat nilai precision sebesar 0.75, recall 0.82, dan f1-score 0.78.\n",
        "Rata-rata makro (macro average), yang merupakan rata-rata tidak berbobot dari precision, recall, dan F1-score di semua kelas, adalah masing-masing 0.86, 0.86, dan 0.83. Sedangkan rata-rata berbobot (weighted average), yang mempertimbangkan jumlah sampel dalam setiap kelas, adalah masing-masing 0.84, 0.83, dan 0.83. Dengan demikian, meskipun model bekerja dengan sangat baik pada kelas Iris-setosa, performanya sedikit menurun untuk kelas Iris-versicolor dan Iris-virginica, terutama karena adanya tumpang tindih fitur antara kedua kelas ini."
      ],
      "metadata": {
        "id": "NmmNQmQzeibC"
      }
    }
  ]
}